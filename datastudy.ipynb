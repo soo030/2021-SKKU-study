//nlp 데이터 분석 

{
  "nbformat": 4,
  "nbformat_minor": 0,
  "metadata": {
    "colab": {
      "name": "데이터분석",
      "provenance": [],
      "collapsed_sections": []
    },
    "kernelspec": {
      "name": "python3",
      "display_name": "Python 3"
    },
    "language_info": {
      "name": "python"
    }
  },
  "cells": [
    {
      "cell_type": "code",
      "metadata": {
        "colab": {
          "base_uri": "https://localhost:8080/"
        },
        "id": "bsUJGjGiRcuK",
        "outputId": "972f70d8-ae16-482c-ae95-3a27672eef01"
      },
      "source": [
        "pip install konlpy"
      ],
      "execution_count": null,
      "outputs": [
        {
          "output_type": "stream",
          "text": [
            "Collecting konlpy\n",
            "\u001b[?25l  Downloading https://files.pythonhosted.org/packages/85/0e/f385566fec837c0b83f216b2da65db9997b35dd675e107752005b7d392b1/konlpy-0.5.2-py2.py3-none-any.whl (19.4MB)\n",
            "\u001b[K     |████████████████████████████████| 19.4MB 1.6MB/s \n",
            "\u001b[?25hRequirement already satisfied: numpy>=1.6 in /usr/local/lib/python3.7/dist-packages (from konlpy) (1.19.5)\n",
            "Requirement already satisfied: lxml>=4.1.0 in /usr/local/lib/python3.7/dist-packages (from konlpy) (4.2.6)\n",
            "Collecting JPype1>=0.7.0\n",
            "\u001b[?25l  Downloading https://files.pythonhosted.org/packages/98/88/f817ef1af6f794e8f11313dcd1549de833f4599abcec82746ab5ed086686/JPype1-1.3.0-cp37-cp37m-manylinux_2_5_x86_64.manylinux1_x86_64.whl (448kB)\n",
            "\u001b[K     |████████████████████████████████| 450kB 34.6MB/s \n",
            "\u001b[?25hRequirement already satisfied: tweepy>=3.7.0 in /usr/local/lib/python3.7/dist-packages (from konlpy) (3.10.0)\n",
            "Collecting beautifulsoup4==4.6.0\n",
            "\u001b[?25l  Downloading https://files.pythonhosted.org/packages/9e/d4/10f46e5cfac773e22707237bfcd51bbffeaf0a576b0a847ec7ab15bd7ace/beautifulsoup4-4.6.0-py3-none-any.whl (86kB)\n",
            "\u001b[K     |████████████████████████████████| 92kB 12.2MB/s \n",
            "\u001b[?25hCollecting colorama\n",
            "  Downloading https://files.pythonhosted.org/packages/44/98/5b86278fbbf250d239ae0ecb724f8572af1c91f4a11edf4d36a206189440/colorama-0.4.4-py2.py3-none-any.whl\n",
            "Requirement already satisfied: typing-extensions; python_version < \"3.8\" in /usr/local/lib/python3.7/dist-packages (from JPype1>=0.7.0->konlpy) (3.7.4.3)\n",
            "Requirement already satisfied: six>=1.10.0 in /usr/local/lib/python3.7/dist-packages (from tweepy>=3.7.0->konlpy) (1.15.0)\n",
            "Requirement already satisfied: requests[socks]>=2.11.1 in /usr/local/lib/python3.7/dist-packages (from tweepy>=3.7.0->konlpy) (2.23.0)\n",
            "Requirement already satisfied: requests-oauthlib>=0.7.0 in /usr/local/lib/python3.7/dist-packages (from tweepy>=3.7.0->konlpy) (1.3.0)\n",
            "Requirement already satisfied: certifi>=2017.4.17 in /usr/local/lib/python3.7/dist-packages (from requests[socks]>=2.11.1->tweepy>=3.7.0->konlpy) (2021.5.30)\n",
            "Requirement already satisfied: chardet<4,>=3.0.2 in /usr/local/lib/python3.7/dist-packages (from requests[socks]>=2.11.1->tweepy>=3.7.0->konlpy) (3.0.4)\n",
            "Requirement already satisfied: urllib3!=1.25.0,!=1.25.1,<1.26,>=1.21.1 in /usr/local/lib/python3.7/dist-packages (from requests[socks]>=2.11.1->tweepy>=3.7.0->konlpy) (1.24.3)\n",
            "Requirement already satisfied: idna<3,>=2.5 in /usr/local/lib/python3.7/dist-packages (from requests[socks]>=2.11.1->tweepy>=3.7.0->konlpy) (2.10)\n",
            "Requirement already satisfied: PySocks!=1.5.7,>=1.5.6; extra == \"socks\" in /usr/local/lib/python3.7/dist-packages (from requests[socks]>=2.11.1->tweepy>=3.7.0->konlpy) (1.7.1)\n",
            "Requirement already satisfied: oauthlib>=3.0.0 in /usr/local/lib/python3.7/dist-packages (from requests-oauthlib>=0.7.0->tweepy>=3.7.0->konlpy) (3.1.1)\n",
            "Installing collected packages: JPype1, beautifulsoup4, colorama, konlpy\n",
            "  Found existing installation: beautifulsoup4 4.6.3\n",
            "    Uninstalling beautifulsoup4-4.6.3:\n",
            "      Successfully uninstalled beautifulsoup4-4.6.3\n",
            "Successfully installed JPype1-1.3.0 beautifulsoup4-4.6.0 colorama-0.4.4 konlpy-0.5.2\n"
          ],
          "name": "stdout"
        }
      ]
    },
    {
      "cell_type": "code",
      "metadata": {
        "id": "yoTSAO23Te37"
      },
      "source": [
        "from google.colab import drive\n",
        "drive.mount('/content/drive')\n",
        "\n",
        "import numpy as np\n",
        "import pandas as pd\n",
        "import os\n",
        "from wordcloud import WordCloud\n",
        "import matplotlib.pyplot as plt\n",
        "\n",
        "import konlpy\n",
        "\n",
        "from konlpy.tag import Okt\n",
        "\n",
        "okt = Okt()\n",
        "import seaborn as sns\n",
        "%matplotlib inline"
      ],
      "execution_count": null,
      "outputs": []
    },
    {
      "cell_type": "code",
      "metadata": {
        "colab": {
          "base_uri": "https://localhost:8080/",
          "height": 368
        },
        "id": "hwVnNwzzaw6G",
        "outputId": "ae02c5cb-35a2-4cb7-f106-4d097e4b9d5c"
      },
      "source": [
        "data = pd.read_excel('./drive/MyDrive/Colab Notebooks/인트라넷 AS요청 데이터선별 v1.xlsx', sheet_name='Sheet1')\n",
        "\n",
        "sentences = list(data['질문 제목']) + list(data['질문 내용']) + list(data['답변 내용'])\n",
        "\n",
        "tokenized_sentences = [s.split() for s in sentences]\n",
        "sent_len_by_token  = [len(t) for t in tokenized_sentences]\n",
        "sent_len_by_eumjeol = [len(s.replace(' ','')) for s in sentences]\n",
        "\n",
        "morph_tokenized_sentences = [okt.morphs(s.replace(' ','')) for s in sentences]\n",
        "sent_len_by_morph = [len(t) for t in morph_tokenized_sentences]\n",
        "\n",
        "plt.figure(figsize=(12,5))\n",
        "plt.hist(sent_len_by_token, bins=50, range=[0,150], alpha=0.5, color='r', label='eojeol')\n",
        "plt.hist(sent_len_by_morph, bins=50, range=[0,150], alpha=0.5, color='g', label='morph')\n",
        "plt.hist(sent_len_by_eumjeol, bins=50, range=[0,150], alpha=0.5, color='b', label='eumjeol')\n",
        "plt.yscale('log')\n",
        "plt.title('Sentence Length Histogram')\n",
        "plt.xlabel('Sentence Length')\n",
        "plt.ylabel('Number of Sentences')"
      ],
      "execution_count": null,
      "outputs": [
        {
          "output_type": "execute_result",
          "data": {
            "text/plain": [
              "Text(0, 0.5, 'Number of Sentences')"
            ]
          },
          "metadata": {
            "tags": []
          },
          "execution_count": 16
        },
        {
          "output_type": "display_data",
          "data": {
            "image/png": "[encoded data removed]",
            "text/plain": [
              "<Figure size 864x360 with 1 Axes>"
            ]
          },
          "metadata": {
            "tags": [],
            "needs_background": "light"
          }
        }
      ]
    },
    {
      "cell_type": "code",
      "metadata": {
        "colab": {
          "base_uri": "https://localhost:8080/"
        },
        "id": "RWNp714cTaPy",
        "outputId": "8e1efbd2-2974-4fff-d12f-3e013f1ccd8c"
      },
      "source": [
        "import numpy as np\n",
        "\n",
        "print('어절 최대 길이: {}'.format(np.max(sent_len_by_token)))\n",
        "print('어절 최소 길이: {}'.format(np.min(sent_len_by_token)))\n",
        "print('어절 평균 길이: {:.2f}'.format(np.mean(sent_len_by_token)))\n",
        "\n",
        "print('어절 길이 표준편차: {:.2f}'.format(np.std(sent_len_by_token)))\n",
        "print('어절 중간 길이: {}'.format(np.median(sent_len_by_token)))\n",
        "print('제1사분위 길이: {}'.format(np.percentile(sent_len_by_token, 25)))\n",
        "print('제3사분위 길이: {}'.format(np.percentile(sent_len_by_token, 75)))"
      ],
      "execution_count": null,
      "outputs": [
        {
          "output_type": "stream",
          "text": [
            "어절 최대 길이: 120\n",
            "어절 최소 길이: 2\n",
            "어절 평균 길이: 24.68\n",
            "어절 길이 표준편차: 23.55\n",
            "어절 중간 길이: 18.0\n",
            "제1사분위 길이: 5.0\n",
            "제3사분위 길이: 36.0\n"
          ],
          "name": "stdout"
        }
      ]
    },
    {
      "cell_type": "code",
      "metadata": {
        "colab": {
          "base_uri": "https://localhost:8080/",
          "height": 742
        },
        "id": "sucEYT43VQw1",
        "outputId": "a5a55fc4-8cd8-46b4-fe7d-bd60ddeeaecd"
      },
      "source": [
        "plt.figure(figsize=(12,5))\n",
        "plt.boxplot([sent_len_by_token, sent_len_by_morph, sent_len_by_eumjeol], labels=['Eojeol','Morph','Eumjeol'], showmeans=True)"
      ],
      "execution_count": null,
      "outputs": [
        {
          "output_type": "execute_result",
          "data": {
            "text/plain": [
              "{'boxes': [<matplotlib.lines.Line2D at 0x7f1dde41ad10>,\n",
              "  <matplotlib.lines.Line2D at 0x7f1dde269090>,\n",
              "  <matplotlib.lines.Line2D at 0x7f1dde1b5190>],\n",
              " 'caps': [<matplotlib.lines.Line2D at 0x7f1dde3a67d0>,\n",
              "  <matplotlib.lines.Line2D at 0x7f1dde3c8590>,\n",
              "  <matplotlib.lines.Line2D at 0x7f1dde281d10>,\n",
              "  <matplotlib.lines.Line2D at 0x7f1dde29a790>,\n",
              "  <matplotlib.lines.Line2D at 0x7f1dde0a7d50>,\n",
              "  <matplotlib.lines.Line2D at 0x7f1dde315f50>],\n",
              " 'fliers': [<matplotlib.lines.Line2D at 0x7f1dde3d5250>,\n",
              "  <matplotlib.lines.Line2D at 0x7f1dde212b50>,\n",
              "  <matplotlib.lines.Line2D at 0x7f1dde543690>],\n",
              " 'means': [<matplotlib.lines.Line2D at 0x7f1dde39dd50>,\n",
              "  <matplotlib.lines.Line2D at 0x7f1dde263790>,\n",
              "  <matplotlib.lines.Line2D at 0x7f1dde1679d0>],\n",
              " 'medians': [<matplotlib.lines.Line2D at 0x7f1dde2f1b50>,\n",
              "  <matplotlib.lines.Line2D at 0x7f1dde231a90>,\n",
              "  <matplotlib.lines.Line2D at 0x7f1dde1380d0>],\n",
              " 'whiskers': [<matplotlib.lines.Line2D at 0x7f1dde63a110>,\n",
              "  <matplotlib.lines.Line2D at 0x7f1dde2e5b50>,\n",
              "  <matplotlib.lines.Line2D at 0x7f1dde4bb690>,\n",
              "  <matplotlib.lines.Line2D at 0x7f1dde3e1ed0>,\n",
              "  <matplotlib.lines.Line2D at 0x7f1dde1c0fd0>,\n",
              "  <matplotlib.lines.Line2D at 0x7f1dde172550>]}"
            ]
          },
          "metadata": {
            "tags": []
          },
          "execution_count": 8
        },
        {
          "output_type": "display_data",
          "data": {
            "image/png": "[encoded data removed]",
            "text/plain": [
              "<Figure size 864x360 with 1 Axes>"
            ]
          },
          "metadata": {
            "tags": [],
            "needs_background": "light"
          }
        }
      ]
    },
    {
      "cell_type": "code",
      "metadata": {
        "id": "apfgOYPCXq03"
      },
      "source": [
        "query_sentences = list(data['질문 내용'])\n",
        "answer_sentences = list(data['답변 내용'])\n",
        "\n",
        "query_morph_tokenized_sentences = [okt.morphs(s.replace(' ','')) for s in query_sentences]\n",
        "query_sent_len_by_morph = [len(t) for t in query_morph_tokenized_sentences]\n",
        "\n",
        "answer_morph_tokenized_sentences = [okt.morphs(s.replace(' ','')) for s in answer_sentences]\n",
        "answer_sent_len_by_morph = [len(t) for t in answer_morph_tokenized_sentences]"
      ],
      "execution_count": null,
      "outputs": []
    },
    {
      "cell_type": "code",
      "metadata": {
        "colab": {
          "base_uri": "https://localhost:8080/",
          "height": 368
        },
        "id": "uV9GhwJmZtGd",
        "outputId": "1009a384-1cd7-442e-c50b-0d04ffffe56a"
      },
      "source": [
        "plt.figure(figsize=(12,5))\n",
        "plt.hist(query_sent_len_by_morph, bins=50, range=[0,150], color='g', label='Query')\n",
        "plt.hist(answer_sent_len_by_morph, bins=50, range=[0,150], color='r', alpha=0.4, label='Answer')\n",
        "plt.legend()\n",
        "plt.yscale('log', nonposy='clip')\n",
        "plt.title('Query Length Histogram by Morph Token')\n",
        "plt.xlabel('Query Length')\n",
        "plt.ylabel('Number of Queries')"
      ],
      "execution_count": null,
      "outputs": [
        {
          "output_type": "execute_result",
          "data": {
            "text/plain": [
              "Text(0, 0.5, 'Number of Queries')"
            ]
          },
          "metadata": {
            "tags": []
          },
          "execution_count": 15
        },
        {
          "output_type": "display_data",
          "data": {
            "image/png": "[encoded data removed]",
            "text/plain": [
              "<Figure size 864x360 with 1 Axes>"
            ]
          },
          "metadata": {
            "tags": [],
            "needs_background": "light"
          }
        }
      ]
    },
    {
      "cell_type": "code",
      "metadata": {
        "colab": {
          "base_uri": "https://localhost:8080/",
          "height": 584
        },
        "id": "NyKMnuiFa3Fz",
        "outputId": "4b06efd5-c813-4867-ba7b-9e9869b2607a"
      },
      "source": [
        "plt.figure(figsize=(12,5))\n",
        "plt.boxplot([query_sent_len_by_morph, answer_sent_len_by_morph], labels=['Query','Answer'])"
      ],
      "execution_count": null,
      "outputs": [
        {
          "output_type": "execute_result",
          "data": {
            "text/plain": [
              "{'boxes': [<matplotlib.lines.Line2D at 0x7f1ddc4fa5d0>,\n",
              "  <matplotlib.lines.Line2D at 0x7f1ddc649c10>],\n",
              " 'caps': [<matplotlib.lines.Line2D at 0x7f1ddc4e4ad0>,\n",
              "  <matplotlib.lines.Line2D at 0x7f1ddc4e4890>,\n",
              "  <matplotlib.lines.Line2D at 0x7f1ddc505990>,\n",
              "  <matplotlib.lines.Line2D at 0x7f1ddc505ed0>],\n",
              " 'fliers': [<matplotlib.lines.Line2D at 0x7f1ddc6499d0>,\n",
              "  <matplotlib.lines.Line2D at 0x7f1ddc514990>],\n",
              " 'means': [],\n",
              " 'medians': [<matplotlib.lines.Line2D at 0x7f1ddc4e40d0>,\n",
              "  <matplotlib.lines.Line2D at 0x7f1ddc514450>],\n",
              " 'whiskers': [<matplotlib.lines.Line2D at 0x7f1ddc4fae90>,\n",
              "  <matplotlib.lines.Line2D at 0x7f1ddc4fa450>,\n",
              "  <matplotlib.lines.Line2D at 0x7f1ddc649790>,\n",
              "  <matplotlib.lines.Line2D at 0x7f1ddc505450>]}"
            ]
          },
          "metadata": {
            "tags": []
          },
          "execution_count": 17
        },
        {
          "output_type": "display_data",
          "data": {
            "image/png": "[encoded data removed]",
            "text/plain": [
              "<Figure size 864x360 with 1 Axes>"
            ]
          },
          "metadata": {
            "tags": [],
            "needs_background": "light"
          }
        }
      ]
    },
    {
      "cell_type": "code",
      "metadata": {
        "id": "7dOr9cqybFZD"
      },
      "source": [
        "query_NVA_token_sentences = list()\n",
        "answer_NVA_token_sentences = list()\n",
        "\n",
        "for s in query_sentences:\n",
        "  for token, tag in okt.pos(s.replace(' ','')):\n",
        "    if tag == 'Noun' or tag == 'Verb' or tag == 'Adjective':\n",
        "      query_NVA_token_sentences.append(token)\n",
        "\n",
        "for s in answer_sentences:\n",
        "  temp_token_bucket = list()\n",
        "  for token, tag in okt.pos(s.replace(' ','')):\n",
        "    if tag == 'Noun' or tag == 'Verb' or tag == 'Adjective':\n",
        "      answer_NVA_token_sentences.append(token)\n",
        "\n",
        "query_NVA_token_sentences = ' '.join(query_NVA_token_sentences)\n",
        "answer_NVA_token_sentences = ' '.join(answer_NVA_token_sentences)"
      ],
      "execution_count": null,
      "outputs": []
    },
    {
      "cell_type": "code",
      "metadata": {
        "colab": {
          "base_uri": "https://localhost:8080/"
        },
        "id": "BjFl4SxinLTE",
        "outputId": "455a9837-b386-43ec-f187-d459882e6c18"
      },
      "source": [
        "!apt-get update -qq\n",
        "!apt-get install fonts-nanum* -qq\n",
        "!pip install konlpy wordcloud"
      ],
      "execution_count": null,
      "outputs": [
        {
          "output_type": "stream",
          "text": [
            "Requirement already satisfied: konlpy in /usr/local/lib/python3.7/dist-packages (0.5.2)\n",
            "Requirement already satisfied: wordcloud in /usr/local/lib/python3.7/dist-packages (1.5.0)\n",
            "Requirement already satisfied: tweepy>=3.7.0 in /usr/local/lib/python3.7/dist-packages (from konlpy) (3.10.0)\n",
            "Requirement already satisfied: lxml>=4.1.0 in /usr/local/lib/python3.7/dist-packages (from konlpy) (4.2.6)\n",
            "Requirement already satisfied: numpy>=1.6 in /usr/local/lib/python3.7/dist-packages (from konlpy) (1.19.5)\n",
            "Requirement already satisfied: beautifulsoup4==4.6.0 in /usr/local/lib/python3.7/dist-packages (from konlpy) (4.6.0)\n",
            "Requirement already satisfied: colorama in /usr/local/lib/python3.7/dist-packages (from konlpy) (0.4.4)\n",
            "Requirement already satisfied: JPype1>=0.7.0 in /usr/local/lib/python3.7/dist-packages (from konlpy) (1.3.0)\n",
            "Requirement already satisfied: pillow in /usr/local/lib/python3.7/dist-packages (from wordcloud) (7.1.2)\n",
            "Requirement already satisfied: six>=1.10.0 in /usr/local/lib/python3.7/dist-packages (from tweepy>=3.7.0->konlpy) (1.15.0)\n",
            "Requirement already satisfied: requests[socks]>=2.11.1 in /usr/local/lib/python3.7/dist-packages (from tweepy>=3.7.0->konlpy) (2.23.0)\n",
            "Requirement already satisfied: requests-oauthlib>=0.7.0 in /usr/local/lib/python3.7/dist-packages (from tweepy>=3.7.0->konlpy) (1.3.0)\n",
            "Requirement already satisfied: typing-extensions; python_version < \"3.8\" in /usr/local/lib/python3.7/dist-packages (from JPype1>=0.7.0->konlpy) (3.7.4.3)\n",
            "Requirement already satisfied: chardet<4,>=3.0.2 in /usr/local/lib/python3.7/dist-packages (from requests[socks]>=2.11.1->tweepy>=3.7.0->konlpy) (3.0.4)\n",
            "Requirement already satisfied: urllib3!=1.25.0,!=1.25.1,<1.26,>=1.21.1 in /usr/local/lib/python3.7/dist-packages (from requests[socks]>=2.11.1->tweepy>=3.7.0->konlpy) (1.24.3)\n",
            "Requirement already satisfied: certifi>=2017.4.17 in /usr/local/lib/python3.7/dist-packages (from requests[socks]>=2.11.1->tweepy>=3.7.0->konlpy) (2021.5.30)\n",
            "Requirement already satisfied: idna<3,>=2.5 in /usr/local/lib/python3.7/dist-packages (from requests[socks]>=2.11.1->tweepy>=3.7.0->konlpy) (2.10)\n",
            "Requirement already satisfied: PySocks!=1.5.7,>=1.5.6; extra == \"socks\" in /usr/local/lib/python3.7/dist-packages (from requests[socks]>=2.11.1->tweepy>=3.7.0->konlpy) (1.7.1)\n",
            "Requirement already satisfied: oauthlib>=3.0.0 in /usr/local/lib/python3.7/dist-packages (from requests-oauthlib>=0.7.0->tweepy>=3.7.0->konlpy) (3.1.1)\n"
          ],
          "name": "stdout"
        }
      ]
    }
  ]
}
